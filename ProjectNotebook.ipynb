{
 "cells": [
  {
   "cell_type": "markdown",
   "metadata": {},
   "source": [
    "# Sorting Hat Quiz\n",
    "\n",
    "My project is a Sorting Hat quiz - very similar to a Buzzfeed quiz! I was inspired by Twitter's SortingHatBot, so I just turned the idea in to something similar but easier to code. I also took much of my inspiration for the questions from Buzzfeed's sorting hat quiz: https://www.buzzfeed.com/eleanorbate/accurate-af-sorting-quiz  \n",
    "\n",
    "\n",
    "I initially used global variables for each counter, but it did not work for the asserts so I changed the counters to be under a class. I only used one function from A3 and the rest are self-written. Each of my questions are its own function. I did it this way so it would be less likely that the user could predict which answer correlated to which house. I also made sure my code prints out both houses if there is a tie in the scores.\n",
    "\n",
    "Keep in mind, you must input the capital letter for your answer choices. For instance, if you wanted to pick choice A, you must input 'A', not 'a'. If you input anything other than an uppercase letter choice, it will ask you to re-enter your answer.\n",
    "\n",
    "Enjoy taking the quiz! Whoo!"
   ]
  },
  {
   "cell_type": "code",
   "execution_count": null,
   "metadata": {},
   "outputs": [],
   "source": [
    "from my_module.functions import *"
   ]
  },
  {
   "cell_type": "code",
   "execution_count": null,
   "metadata": {},
   "outputs": [],
   "source": [
    "sorting_hat_quiz()"
   ]
  }
 ],
 "metadata": {
  "kernelspec": {
   "display_name": "Python 3",
   "language": "python",
   "name": "python3"
  },
  "language_info": {
   "codemirror_mode": {
    "name": "ipython",
    "version": 3
   },
   "file_extension": ".py",
   "mimetype": "text/x-python",
   "name": "python",
   "nbconvert_exporter": "python",
   "pygments_lexer": "ipython3",
   "version": "3.6.7"
  }
 },
 "nbformat": 4,
 "nbformat_minor": 2
}
