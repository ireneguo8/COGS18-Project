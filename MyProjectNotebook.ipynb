{
 "cells": [
  {
   "cell_type": "markdown",
   "metadata": {},
   "source": [
    "# Sorting Hat Quiz\n",
    "\n",
    "My project is a Sorting Hat quiz - very similar to a Buzzfeed quiz! I was inspired by Twitter's SortingHatBot, so I just turned the idea in to something similar but easier to code. I also took much of my inspiration for the questions from Buzzfeed's sorting hat quiz: https://www.buzzfeed.com/eleanorbate/accurate-af-sorting-quiz  \n",
    "\n",
    "\n",
    "I initially used global variables for each counter, but it did not work for the asserts so I changed the counters to be under a class. I only used one function from A3 and the rest are self-written. Each of my questions are its own function. I did it this way so it would be less likely that the user could predict which answer correlated to which house. I also made sure my code prints out both houses if there is a tie in the scores.\n",
    "\n",
    "Keep in mind, you must input the capital letter for your answer choices. For instance, if you wanted to pick choice A, you must input 'A', not 'a'. If you input anything other than an uppercase letter choice, it will ask you to re-enter your answer.\n",
    "\n",
    "Enjoy taking the quiz! Whoo!"
   ]
  },
  {
   "cell_type": "code",
   "execution_count": 1,
   "metadata": {},
   "outputs": [],
   "source": [
    "from my_module.functions import *"
   ]
  },
  {
   "cell_type": "code",
   "execution_count": 2,
   "metadata": {},
   "outputs": [
    {
     "name": "stdout",
     "output_type": "stream",
     "text": [
      "1. The wand chooses you at Ollivander's. What material is your wand core made of?\n",
      "\n",
      " A) Unicorn Hair\n",
      " B) Dragon Heartstring\n",
      " C) Phoenix Feather\n",
      "Enter your answer: A\n",
      "\n",
      "2. It's leviOsa, not levioSA! Your favorite class at Hogwarts is:\n",
      "\n",
      " A) Charms\n",
      " B) Herbology\n",
      " C) Transfiguration\n",
      " D) Potions\n",
      "Enter your answer: C\n",
      "\n",
      "3. You would hate if someone called you:\n",
      "\n",
      " A) Oblivious\n",
      " B) Self-Centered\n",
      " C) Insignificant\n",
      " D) Weak\n",
      "Enter your answer: B\n",
      "\n",
      "4. What potion do you choose to make in Potions class?\n",
      "\n",
      " A) Veritaserum\n",
      " B) Essence of Dittany\n",
      " C) Invisiblity Potion\n",
      " D) Felix Felicis / Liquid Luck\n",
      "Enter your answer: D\n",
      "\n",
      "5. How would you describe your relationship with friends?\n",
      "\n",
      " A) I only have a few close friends that I really trust\n",
      " B) I love making new friends! I love surrounding myself with people\n",
      " C) I find myself making friends who I can gain something from\n",
      " D) I prefer the company of books over people, but I am still fiercely loyal\n",
      "Enter your answer: A\n",
      "\n",
      "6. What's your zodiac sign?\n",
      "\n",
      " A) Gemini/Sagittarius/Scorpio\n",
      " B) Virgo/Aquarius/Pisces\n",
      " C) Taurus/Libra/Cancer\n",
      " D) Aries/Leo/Capricorn\n",
      "Enter your answer: C\n",
      "\n",
      "7. What's your patronus?\n",
      "\n",
      " A) Hedgehog\n",
      " B) St. Bernard Dog\n",
      " C) Fox\n",
      " D) Dolphin\n",
      "Enter your answer: D\n",
      "\n",
      "8. Which obstacle from the Sorcerer's Stone would you be most successful in completing?\n",
      "\n",
      " A) Mirror of Erised\n",
      " B) Logic and Potions\n",
      " C) Fighting the Mountain troll\n",
      " D) Wizard Chess\n",
      "Enter your answer: B\n",
      "\n",
      "9. What is your main goal while attending Hogwarts?\n",
      "\n",
      " A) To learn as much as I can and get the top marks\n",
      " B) To just have a good time\n",
      " C) To be known by all the witches and wizards\n",
      " D) To do whatever it takes to become rich and glorious\n",
      "Enter your answer: E\n",
      "Not an answer! Are you a muggle?\n",
      "Enter your answer: D\n",
      "\n",
      "10. Lastly, the sorting hat always takes your opinion into consideration. What Hogwarts house do you believe you most closely identify with?\n",
      "\n",
      " A) Gryffindor\n",
      " B) Hufflepuff\n",
      " C) Ravenclaw\n",
      " D) Slytherin\n",
      "Enter your answer: A\n",
      "\n",
      "THE SORTING HAT SAYS:\n",
      " \n",
      "GRYFFINDOR!\n",
      "HUFFLEPUFF!\n"
     ]
    }
   ],
   "source": [
    "sorting_hat_quiz()"
   ]
  }
 ],
 "metadata": {
  "kernelspec": {
   "display_name": "Python 3",
   "language": "python",
   "name": "python3"
  },
  "language_info": {
   "codemirror_mode": {
    "name": "ipython",
    "version": 3
   },
   "file_extension": ".py",
   "mimetype": "text/x-python",
   "name": "python",
   "nbconvert_exporter": "python",
   "pygments_lexer": "ipython3",
   "version": "3.6.7"
  }
 },
 "nbformat": 4,
 "nbformat_minor": 2
}
